{
 "cells": [
  {
   "cell_type": "markdown",
   "metadata": {},
   "source": [
    "python code to post-process mdEditorRead csv to template format for import into MBM national asset catalog"
   ]
  },
  {
   "cell_type": "code",
   "execution_count": null,
   "metadata": {},
   "outputs": [],
   "source": [
    "import csv\n",
    "import pandas as pd\n",
    "import chardet\n",
    "import re\n",
    "\n",
    "inputCSV = 'C:\\\\Users\\\\tpatterson\\\\OneDrive - DOI\\\\Documents\\\\DM_Metadatafiles\\\\CatalogCSV\\\\catalogCSVmbm20240606.csv'\n",
    "outCSV = 'C:\\\\Users\\\\tpatterson\\\\OneDrive - DOI\\\\Documents\\\\DM_Metadatafiles\\\\CatalogCSV\\\\catalogAssetsmbm20240606.csv'\n",
    "\n",
    "\n",
    "#read csv into panda data frome\n",
    "with open(inputCSV, 'rb') as f:\n",
    "    result = chardet.detect(f.read())\n",
    "df = pd.read_csv(inputCSV, encoding=result['encoding'])\n",
    "\n",
    "#create df to edit\n",
    "df2=df\n",
    "\n",
    "#dd region column and code\n",
    "reg = 7\n",
    "df2['MBPRegion'] = 7\n",
    "#add storage/Maintenance contracted? response\n",
    "df2['ContractStorage'] = 'NO'\n",
    "\n",
    "#pull AK RDR id from ids & write program name to new columns\n",
    "pattern = 'AlaskaRegionalDataRepository'\n",
    "for i, r in df2.iterrows():\n",
    "    id = r['ids']\n",
    "    id = id.replace(';', '')\n",
    "    id = id.replace(':','')\n",
    "    id = id.replace(' ','')\n",
    "    index = id.find(pattern)       \n",
    "    df2.loc[i, 'AK_RDR'] = str(id[(index+len(pattern)):(index+len(pattern)+10)])\n",
    "\n",
    "#add program name (lambda method)\n",
    "df2['Program'] = df2['AK_RDR'].apply(lambda x: 'Seaduck JV' if 'jv' in x else ('Waterfowl' if 'wa' in x else ('Seabrids' if 'sb' in x else ('Landbirds' if 'lb' in x else ('Shorebirds' if 'sh' in x else ('Raptors' if 'ra' in x else ('Science Support' if 'ss' in x else '')))))))\n",
    "\n",
    "#add operational/exterimental/inactive status\n",
    "df2['ProjectStatus'] = df2['status'].apply(lambda x: 'Operational' if 'onGoing' in x else ('Inactive' if 'completed' in x else ('inactive' if 'historicalArchive' in x else 'Experimental')))\n",
    "\n",
    "#output csv\n",
    "output = df2.to_csv(outCSV, header=df2.columns, index=None, sep =',')"
   ]
  }
 ],
 "metadata": {
  "kernelspec": {
   "display_name": "base",
   "language": "python",
   "name": "python3"
  },
  "language_info": {
   "name": "python",
   "version": "3.11.7"
  }
 },
 "nbformat": 4,
 "nbformat_minor": 2
}
